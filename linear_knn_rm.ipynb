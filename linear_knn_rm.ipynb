{
 "cells": [
  {
   "cell_type": "code",
   "execution_count": 8,
   "metadata": {},
   "outputs": [],
   "source": [
    "import pandas as pd\n",
    "import numpy as np\n",
    "from sklearn import linear_model\n",
    "from sklearn.model_selection import train_test_split\n",
    "import statsmodels.api as sm\n",
    "from sklearn.linear_model import LassoCV\n",
    "from sklearn.neighbors import KNeighborsRegressor\n",
    "from sklearn.model_selection import cross_val_score\n",
    "from sklearn.ensemble import RandomForestRegressor\n",
    "import warnings\n",
    " \n",
    "warnings.filterwarnings('ignore')"
   ]
  },
  {
   "cell_type": "code",
   "execution_count": 2,
   "metadata": {},
   "outputs": [],
   "source": [
    "features = pd.read_csv('spx_cons_norm.csv')\n",
    "features = features[['tic','datadate','industry_id','forward_ret','ROE','Asset Turnover','EMA6','earningsVol','PS','ev_ebitda']]\n",
    "industry_dummy = pd.get_dummies(features['industry_id'])\n",
    "features = pd.merge(features,industry_dummy,how='left',left_index=True,right_index=True)\n",
    "\n",
    "features = features.dropna(subset=['forward_ret'])\n",
    "features_after = features.groupby(['tic']).ffill()\n",
    "features_after = pd.merge(features_after,features[['tic']],how='left',left_index=True,right_index=True)\n",
    "\n",
    "cols = [col for col in features_after.columns if col not in ['datadate','industry_id','forward_ret','tic']]\n",
    "df_na = features_after.isnull()\n",
    "\n",
    "df_mean = features_after.groupby('tic').mean()\n",
    "\n",
    "\n",
    "\n",
    "\n",
    "for col in cols:\n",
    "    na_series = features_after[col].isnull()\n",
    "    names = list(features_after.loc[na_series,'tic'])     \n",
    "\n",
    "    t = df_mean.loc[names,col]\n",
    "    t.index = features_after.loc[na_series,col].index\n",
    "\n",
    "    \n",
    "    features_after.loc[na_series,col] = t\n",
    "\n",
    "\n",
    "\n",
    "for col in cols:\n",
    "    na_series = features_after[col].isnull()\n",
    "    mean = np.mean(features_after[col]) \n",
    "    features_after.loc[na_series,col] = mean\n",
    "\n",
    " "
   ]
  },
  {
   "cell_type": "code",
   "execution_count": 4,
   "metadata": {},
   "outputs": [],
   "source": [
    "X = features_after[['ROE','Asset Turnover','EMA6','earningsVol','PS','ev_ebitda',10,15,20,25,30,35,40,45,50,55,60]]\n",
    "#X = sm.add_constant(X)\n",
    "Y = features_after[['forward_ret']]\n",
    "X_train, X_test, y_train, y_test = train_test_split(X, Y, test_size=0.7, random_state=52)"
   ]
  },
  {
   "cell_type": "code",
   "execution_count": 5,
   "metadata": {},
   "outputs": [
    {
     "name": "stderr",
     "output_type": "stream",
     "text": [
      "/Users/yishan/opt/anaconda3/lib/python3.6/site-packages/sklearn/linear_model/_coordinate_descent.py:1088: DataConversionWarning: A column-vector y was passed when a 1d array was expected. Please change the shape of y to (n_samples, ), for example using ravel().\n",
      "  y = column_or_1d(y, warn=True)\n"
     ]
    },
    {
     "name": "stdout",
     "output_type": "stream",
     "text": [
      "[1.0e-03 9.9e-04 9.8e-04 9.7e-04 9.6e-04 9.5e-04 9.4e-04 9.3e-04 9.2e-04\n",
      " 9.1e-04 9.0e-04 8.9e-04 8.8e-04 8.7e-04 8.6e-04 8.5e-04 8.4e-04 8.3e-04\n",
      " 8.2e-04 8.1e-04 8.0e-04 7.9e-04 7.8e-04 7.7e-04 7.6e-04 7.5e-04 7.4e-04\n",
      " 7.3e-04 7.2e-04 7.1e-04 7.0e-04 6.9e-04 6.8e-04 6.7e-04 6.6e-04 6.5e-04\n",
      " 6.4e-04 6.3e-04 6.2e-04 6.1e-04 6.0e-04 5.9e-04 5.8e-04 5.7e-04 5.6e-04\n",
      " 5.5e-04 5.4e-04 5.3e-04 5.2e-04 5.1e-04 5.0e-04 4.9e-04 4.8e-04 4.7e-04\n",
      " 4.6e-04 4.5e-04 4.4e-04 4.3e-04 4.2e-04 4.1e-04 4.0e-04 3.9e-04 3.8e-04\n",
      " 3.7e-04 3.6e-04 3.5e-04 3.4e-04 3.3e-04 3.2e-04 3.1e-04 3.0e-04 2.9e-04\n",
      " 2.8e-04 2.7e-04 2.6e-04 2.5e-04 2.4e-04 2.3e-04 2.2e-04 2.1e-04 2.0e-04\n",
      " 1.9e-04 1.8e-04 1.7e-04 1.6e-04 1.5e-04 1.4e-04 1.3e-04 1.2e-04 1.1e-04\n",
      " 1.0e-04 9.0e-05 8.0e-05 7.0e-05 6.0e-05 5.0e-05 4.0e-05 3.0e-05 2.0e-05\n",
      " 1.0e-05]\n",
      "[-0.05055212 -0.01077545  0.0301493   0.05555311 -0.03765415  0.09380831\n",
      " -0.31772618 -0.41236234  0.14564027 -0.10019657  0.12413772  0.15419778\n",
      "  0.00669127  0.33210562 -0.01709733 -0.         -0.        ]\n",
      "1.1627838254712135\n"
     ]
    }
   ],
   "source": [
    "#Linear\n",
    "reg = LassoCV(cv=5,fit_intercept=True,alphas=np.linspace(0.00001,0.001,100)).fit(X_train,y_train)   \n",
    "print(reg.alphas_)\n",
    "print(reg.coef_)\n",
    "print(reg.intercept_)\n",
    "\n"
   ]
  },
  {
   "cell_type": "code",
   "execution_count": 6,
   "metadata": {},
   "outputs": [
    {
     "name": "stdout",
     "output_type": "stream",
     "text": [
      "2 -0.4799078571061573\n",
      "3 -0.31429022450003485\n",
      "4 -0.23174903991344195\n",
      "5 -0.18312909885847328\n",
      "6 -0.15464148483062656\n",
      "7 -0.1307391415381789\n",
      "8 -0.11231843378687949\n"
     ]
    }
   ],
   "source": [
    "#KNN\n",
    "\n",
    "for n in [2,3,4,5,6,7,8]:\n",
    "    neigh = KNeighborsRegressor(n_neighbors=n)\n",
    "    #neigh.fit(X_train,y_train)\n",
    "    scores = cross_val_score(neigh, X_train,y_train, cv=5)\n",
    "    print(n,np.mean(scores))\n",
    "\n",
    "\n"
   ]
  },
  {
   "cell_type": "code",
   "execution_count": 9,
   "metadata": {},
   "outputs": [
    {
     "name": "stdout",
     "output_type": "stream",
     "text": [
      "2 -0.002239485129817065\n",
      "3 -0.0030615068459538984\n",
      "4 -0.00377203572481839\n",
      "5 -0.004523788425691877\n",
      "6 -0.005808484558171401\n",
      "7 -0.0060358681810472\n"
     ]
    }
   ],
   "source": [
    "#random forest\n",
    "\n",
    "for max_depth in [2,3,4,5,6,7]:\n",
    "    regr = RandomForestRegressor(max_depth=max_depth, random_state=0)\n",
    "    scores = cross_val_score(regr, X_train,y_train, cv=5)\n",
    "    print(max_depth,np.mean(scores))"
   ]
  },
  {
   "cell_type": "code",
   "execution_count": null,
   "metadata": {},
   "outputs": [],
   "source": []
  }
 ],
 "metadata": {
  "kernelspec": {
   "display_name": "Python 3",
   "language": "python",
   "name": "python3"
  },
  "language_info": {
   "codemirror_mode": {
    "name": "ipython",
    "version": 3
   },
   "file_extension": ".py",
   "mimetype": "text/x-python",
   "name": "python",
   "nbconvert_exporter": "python",
   "pygments_lexer": "ipython3",
   "version": "3.6.10"
  }
 },
 "nbformat": 4,
 "nbformat_minor": 4
}
