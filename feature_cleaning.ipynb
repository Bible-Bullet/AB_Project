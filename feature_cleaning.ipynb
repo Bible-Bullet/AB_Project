{
 "cells": [
  {
   "cell_type": "code",
   "execution_count": 2,
   "metadata": {},
   "outputs": [],
   "source": [
    "import pandas as pd\n",
    "import numpy as np\n",
    "import os\n",
    "import datetime as dt\n",
    "os.chdir(r'C:\\Users\\38030\\OneDrive\\CORNELL\\2020F\\AB')"
   ]
  },
  {
   "cell_type": "code",
   "execution_count": 4,
   "metadata": {},
   "outputs": [],
   "source": [
    "data1=pd.read_csv('financial_sp500_test.csv')\n",
    "data2=pd.read_csv('financial_sp500_test2.csv')\n",
    "data3=pd.read_csv('financial_sp500_test3.csv')\n",
    "data4=pd.read_csv('financial_sp500_test4.csv')"
   ]
  },
  {
   "cell_type": "code",
   "execution_count": 5,
   "metadata": {},
   "outputs": [],
   "source": [
    "#data=pd.merge(data1,data2,how='outer')\n",
    "#data=pd.merge(data,data3,how='outer')\n",
    "#data=pd.merge(data,data4,how='outer')"
   ]
  },
  {
   "cell_type": "code",
   "execution_count": 157,
   "metadata": {},
   "outputs": [
    {
     "data": {
      "text/plain": [
       "Index(['gvkey', 'datadate', 'fyearq', 'fqtr', 'indfmt', 'consol', 'popsrc',\n",
       "       'datafmt', 'curcdq', 'datacqtr', 'datafqtr', 'rdq', 'atq', 'ceqq',\n",
       "       'cogsq', 'dlcq', 'dlttq', 'dpq', 'dvpq', 'epspi12', 'epspiq', 'glaq',\n",
       "       'ibcomq', 'ibq', 'icaptq', 'ltq', 'niitq', 'niq', 'oiadpq', 'oibdpq',\n",
       "       'optdrq', 'revtq', 'saleq', 'seqq', 'wcapq', 'xintq', 'xoprq', 'xrdq',\n",
       "       'costat', 'dvpsxq'],\n",
       "      dtype='object')"
      ]
     },
     "execution_count": 157,
     "metadata": {},
     "output_type": "execute_result"
    }
   ],
   "source": [
    "data=pd.read_csv('financial_sp500.csv')\n",
    "data.columns"
   ]
  },
  {
   "cell_type": "code",
   "execution_count": 158,
   "metadata": {},
   "outputs": [],
   "source": [
    "data1=pd.read_csv('financial_sp500_annual.csv')\n",
    "data1=data1[['gvkey','fdate','at', 'dv', 'dvt', 'ebit', 'ebitda', 'epspx', 'fincf', 'gla',\n",
    "       'ivncf', 'lt', 'oancf', 'revt', 'costat']]"
   ]
  },
  {
   "cell_type": "code",
   "execution_count": 159,
   "metadata": {},
   "outputs": [],
   "source": [
    "data['dvpq_3y']=data.groupby(['gvkey'])['dvpq'].transform(lambda x: x.rolling(12).mean())\n",
    "data['saleq_y']=data.groupby(['gvkey'])['saleq'].transform(lambda x: x.rolling(4).mean())\n",
    "data['oibdpq_y']=data.groupby(['gvkey'])['oibdpq'].transform(lambda x: x.rolling(4).mean())\n",
    "data['atq_y']=data.groupby(['gvkey'])['atq'].transform(lambda x: x.rolling(4).mean())\n",
    "data['revtq_y']=data.groupby(['gvkey'])['revtq'].transform(lambda x: x.rolling(4).mean())\n",
    "data['niq_y']=data.groupby(['gvkey'])['niq'].transform(lambda x: x.rolling(4).mean())\n",
    "data['icaptq_y']=data.groupby(['gvkey'])['icaptq'].transform(lambda x: x.rolling(4).mean())"
   ]
  },
  {
   "cell_type": "code",
   "execution_count": 45,
   "metadata": {},
   "outputs": [],
   "source": [
    "price = pd.read_csv('sp500_cons_prc_new.csv')"
   ]
  },
  {
   "cell_type": "code",
   "execution_count": 46,
   "metadata": {},
   "outputs": [],
   "source": [
    "price.sort_values(by=['gvkey','datadate'],inplace=True)\n",
    "price['MA3']=price.groupby(['gvkey'])['trt1m'].transform(lambda x: x.rolling(3).mean())\n",
    "price['MA6']=price.groupby(['gvkey'])['trt1m'].transform(lambda x: x.rolling(6).mean())\n",
    "price['MA12']=price.groupby(['gvkey'])['trt1m'].transform(lambda x: x.rolling(12).mean())\n",
    "price['EMA3']=price.groupby(['gvkey'])['trt1m'].transform(lambda x: x.ewm(3).mean())\n",
    "price['EMA6']=price.groupby(['gvkey'])['trt1m'].transform(lambda x: x.ewm(6).mean())\n",
    "price['EMA12']=price.groupby(['gvkey'])['trt1m'].transform(lambda x: x.ewm(12).mean())"
   ]
  },
  {
   "cell_type": "code",
   "execution_count": 47,
   "metadata": {},
   "outputs": [],
   "source": [
    "price['std12']=price.groupby(['gvkey'])['trt1m'].transform(lambda x: x.rolling(12).std())\n",
    "price['std6']=price.groupby(['gvkey'])['trt1m'].transform(lambda x: x.rolling(6).std())"
   ]
  },
  {
   "cell_type": "code",
   "execution_count": 48,
   "metadata": {},
   "outputs": [
    {
     "data": {
      "text/plain": [
       "87694"
      ]
     },
     "execution_count": 48,
     "metadata": {},
     "output_type": "execute_result"
    }
   ],
   "source": [
    "len(price)"
   ]
  },
  {
   "cell_type": "code",
   "execution_count": 49,
   "metadata": {},
   "outputs": [
    {
     "data": {
      "text/plain": [
       "Index(['adj_close', 'adj_ret', 'cheqvm', 'conm', 'cshtrm', 'datadate', 'gind',\n",
       "       'gsubind', 'gvkey', 'iid', 'prccm', 'prchm', 'prclm', 'tic', 'trfm',\n",
       "       'trt1m', 'cshom', 'MA3', 'MA6', 'MA12', 'EMA3', 'EMA6', 'EMA12',\n",
       "       'std12', 'std6'],\n",
       "      dtype='object')"
      ]
     },
     "execution_count": 49,
     "metadata": {},
     "output_type": "execute_result"
    }
   ],
   "source": [
    "price.columns"
   ]
  },
  {
   "cell_type": "code",
   "execution_count": 102,
   "metadata": {},
   "outputs": [],
   "source": [
    "price['mkt_cap']=price['prccm']*price['cshom']"
   ]
  },
  {
   "cell_type": "markdown",
   "metadata": {},
   "source": [
    "## Valuation"
   ]
  },
  {
   "cell_type": "code",
   "execution_count": 167,
   "metadata": {},
   "outputs": [],
   "source": [
    "try:\n",
    "    data.drop(columns=['indfmt', 'consol', 'popsrc','costat','iid'],inplace=True)\n",
    "except:\n",
    "    1\n",
    "data.drop(columns=['datadate'],inplace=True)\n",
    "data.drop_duplicates(['gvkey','rdq'],keep='last',inplace=True)"
   ]
  },
  {
   "cell_type": "code",
   "execution_count": 161,
   "metadata": {},
   "outputs": [],
   "source": [
    "rdq=data[['rdq','gvkey']].drop_duplicates()\n",
    "month_date=price['datadate'].drop_duplicates()"
   ]
  },
  {
   "cell_type": "code",
   "execution_count": 162,
   "metadata": {},
   "outputs": [],
   "source": [
    "rdq_month=pd.DataFrame()\n",
    "for d in month_date:\n",
    "    temp=rdq[rdq.rdq<=d]\n",
    "    temp=temp.groupby(['gvkey'])['rdq'].max().reset_index()\n",
    "    temp['datadate']=d\n",
    "    rdq_month=rdq_month.append(temp)"
   ]
  },
  {
   "cell_type": "code",
   "execution_count": 169,
   "metadata": {},
   "outputs": [
    {
     "data": {
      "text/plain": [
       "Index(['adj_close', 'adj_ret', 'cheqvm', 'conm', 'cshtrm', 'datadate', 'gind',\n",
       "       'gsubind', 'gvkey', 'iid', 'prccm', 'prchm', 'prclm', 'tic', 'trfm',\n",
       "       'trt1m', 'cshom', 'MA3', 'MA6', 'MA12', 'EMA3', 'EMA6', 'EMA12',\n",
       "       'std12', 'std6', 'mkt_cap', 'rdq'],\n",
       "      dtype='object')"
      ]
     },
     "execution_count": 169,
     "metadata": {},
     "output_type": "execute_result"
    }
   ],
   "source": [
    "price_new=pd.merge(price,rdq_month,how='left')\n",
    "price_new.columns"
   ]
  },
  {
   "cell_type": "code",
   "execution_count": 172,
   "metadata": {},
   "outputs": [],
   "source": [
    "price_new=pd.merge(price_new,data)"
   ]
  },
  {
   "cell_type": "code",
   "execution_count": 93,
   "metadata": {},
   "outputs": [],
   "source": [
    "price_new.to_csv('price+financial.csv',index=False)"
   ]
  },
  {
   "cell_type": "markdown",
   "metadata": {},
   "source": [
    "## dividend+annual"
   ]
  },
  {
   "cell_type": "code",
   "execution_count": 174,
   "metadata": {},
   "outputs": [],
   "source": [
    "dividend = pd.read_csv('dividend_monthly.csv')\n",
    "dividend=dividend[['gvkey','datadate','dvpspm','dvpsxm']]\n",
    "dividend.drop_duplicates(['gvkey','datadate'],inplace=True)"
   ]
  },
  {
   "cell_type": "code",
   "execution_count": 175,
   "metadata": {},
   "outputs": [],
   "source": [
    "#price_new=pd.read_csv('price+financial.csv')\n",
    "price_new=pd.merge(price_new,dividend,how='left')\n",
    "price_new['dvpspm'].fillna(0,inplace=True)\n",
    "price_new['dvpsxm'].fillna(0,inplace=True)\n",
    "#data.to_csv('price+financial.csv',index=False)"
   ]
  },
  {
   "cell_type": "code",
   "execution_count": 177,
   "metadata": {},
   "outputs": [
    {
     "data": {
      "text/plain": [
       "Index(['gvkey', 'fdate', 'at', 'dv', 'dvt', 'ebit', 'ebitda', 'epspx', 'fincf',\n",
       "       'gla', 'ivncf', 'lt', 'oancf', 'revt', 'costat'],\n",
       "      dtype='object')"
      ]
     },
     "execution_count": 177,
     "metadata": {},
     "output_type": "execute_result"
    }
   ],
   "source": [
    "data1.columns"
   ]
  },
  {
   "cell_type": "code",
   "execution_count": 179,
   "metadata": {},
   "outputs": [],
   "source": [
    "fdate=data1[['fdate','gvkey']].drop_duplicates()\n",
    "month_date=price_new['datadate'].drop_duplicates()\n",
    "fdate_month=pd.DataFrame()\n",
    "for d in month_date:\n",
    "    temp=fdate[fdate.fdate<=d]\n",
    "    temp=temp.groupby(['gvkey'])['fdate'].max().reset_index()\n",
    "    temp['datadate']=d\n",
    "    fdate_month=fdate_month.append(temp)"
   ]
  },
  {
   "cell_type": "code",
   "execution_count": 181,
   "metadata": {},
   "outputs": [],
   "source": [
    "price_new1=pd.merge(price_new,fdate_month,how='left')"
   ]
  },
  {
   "cell_type": "code",
   "execution_count": 182,
   "metadata": {},
   "outputs": [],
   "source": [
    "data1.drop_duplicates(['gvkey','fdate'],keep='last',inplace=True)\n",
    "price_new1=pd.merge(price_new1,data1)"
   ]
  },
  {
   "cell_type": "code",
   "execution_count": 237,
   "metadata": {},
   "outputs": [],
   "source": [
    "price_new1.to_csv('price+financial.csv',index=False)"
   ]
  },
  {
   "cell_type": "markdown",
   "metadata": {},
   "source": [
    "## Features"
   ]
  },
  {
   "cell_type": "code",
   "execution_count": 216,
   "metadata": {},
   "outputs": [],
   "source": [
    "# Compute ROE\n",
    "price_new1['ROE'] = price_new1['niq']/(price_new1['cshom']*price_new1['prccm'])*1e6\n",
    "# Compute ROA --> 'niq'/'atq'\n",
    "price_new1['ROA'] = price_new1['niq']/price_new1['atq']\n",
    "\n",
    "# Compute Leverage --> (DLTT + DLC)/SEQ --> no price_new1\n",
    "# Need to download \"DLTTQ\",\"DLCQ\",\"SEQQ\" in WRDS -> \"Fundamental Quarterly\"\n",
    "price_new1['leverage'] = (price_new1['dlttq']+price_new1['dlcq'])/price_new1['seqq']\n",
    "\n",
    "# Compute EPS --> already have column 'epspi12'\n",
    "\n",
    "# Compute Growth --> Net income growth rate? \n",
    "# Question: ni is quarter price_new1, so ni_growth will have many 0 values\n",
    "# Even if you change it to \"OIBDPQ\" (Operating Income), it still has the same problem\n",
    "price_new1['NI_Growth'] = price_new1.groupby(['gvkey'])['niq_y'].transform(lambda x: (x-x.shift(1))/x.shift(1))\n",
    "\n",
    "# Compute Net Profit Margin ---> Net Income/Revenue\n",
    "price_new1['NetPM'] = price_new1['niq']/price_new1['revtq']\n",
    "\n",
    "# Compute price/cap\n",
    "price_new1['PriceCap'] = price_new1['prccm']/price_new1['mkt_cap']\n",
    "\n",
    "# Compute Earnings vol (operating risk)\n",
    "# Earnings = (Net income - preferred dividends) = ('niq' - 'dvpq') (need 'dvpq' price_new1!)\n",
    "price_new1['earnings_q'] = (price_new1['niq']-price_new1['dvpq'])*1e6\n",
    "price_new1['earningsVol'] = price_new1.groupby(['gvkey'])['earnings_q'].transform(lambda x: x.rolling(4).std())\n",
    "\n",
    "# Compute ROI --> 'niq'/ 'icaptq'(invested capital, no price_new1 yet)\n",
    "price_new1['ROI'] = price_new1['prccm']/price_new1['icaptq']/1e6\n",
    "\n",
    "# Compute DPS --> Dividends per Share / Ex Date / Monthly --> 'dvpsxm'\n",
    "\n",
    "# Compute Asset Turnover --> Revenue/Average Assets\n",
    "# Need 'atq' price_new1 from WRDS\n",
    "price_new1['Asset Turnover'] = price_new1['revtq']/price_new1['atq_y']\n",
    "\n",
    "# Compute Size\n",
    "price_new1['Size'] = np.log(price_new1['mkt_cap'])"
   ]
  },
  {
   "cell_type": "code",
   "execution_count": 234,
   "metadata": {},
   "outputs": [],
   "source": [
    "price_new1['PE']=price_new1['prccm']/price_new1['epspi12']\n",
    "price_new1['PB']=price_new1['adj_close']/(price_new1['atq']-price_new1['ltq'])*price_new1['cshom']/1e6\n",
    "price_new1['PS']=price_new1['prccm']/price_new1['saleq_y']*price_new1['cshom']/1e6\n",
    "price_new1['dividend_yield']=price_new1.groupby(['gvkey'])['dvpsxm'].transform(lambda x: x.rolling(12).sum())/price_new1['adj_close']\n",
    "#price_new1['PCF']=price_new1['prccm']/(price_new1['oiadpq']-)"
   ]
  },
  {
   "cell_type": "code",
   "execution_count": 223,
   "metadata": {},
   "outputs": [],
   "source": [
    "price_new1['EV']=price_new1['mkt_cap']+price_new1['ltq']*1e6\n",
    "price_new1['ev_ebitda']=price_new1['EV']/price_new1['ebitda']/1e6\n",
    "price_new1['net_cash_flow']=(price_new1['fincf']+price_new1['ivncf']+price_new1['oancf'])*1e6\n",
    "price_new1['NCFP']=price_new1['net_cash_flow']/price_new1['mkt_cap']"
   ]
  },
  {
   "cell_type": "code",
   "execution_count": 228,
   "metadata": {},
   "outputs": [],
   "source": [
    "price_new1['industry_id']=price_new1['gind']//10000\n",
    "price_new1.to_csv('price+financial.csv',index=False)#11 industries"
   ]
  },
  {
   "cell_type": "code",
   "execution_count": 211,
   "metadata": {},
   "outputs": [
    {
     "name": "stdout",
     "output_type": "stream",
     "text": [
      "['niitq', 'niq', 'oiadpq', 'oibdpq', 'optdrq', 'revtq', 'saleq', 'seqq', 'wcapq', 'xintq', 'xoprq', 'xrdq', 'costat', 'dvpsxq', 'dvpq_3y', 'saleq_y', 'oibdpq_y', 'atq_y', 'revtq_y', 'niq_y', 'icaptq_y', 'dvpspm', 'dvpsxm', 'fdate', 'at', 'dv', 'dvt', 'ebit', 'ebitda', 'epspx', 'fincf', 'gla', 'ivncf', 'lt', 'oancf', 'revt', 'ROE', 'ROA', 'leverage', 'NI_Growth', 'NetPM', 'PriceCap', 'earnings_q', 'earningsVol', 'ROI', 'Asset Turnover', 'Size', 'PE', 'PB', 'PS', 'dividend_yield', 'EV', 'eb_ebitda', 'net_cash_flow', 'NCFP', 'industry_id']\n"
     ]
    }
   ],
   "source": [
    "print(list(price_new1.columns)[50:])"
   ]
  },
  {
   "cell_type": "markdown",
   "metadata": {},
   "source": [
    "## Features Selection"
   ]
  },
  {
   "cell_type": "code",
   "execution_count": 235,
   "metadata": {},
   "outputs": [],
   "source": [
    "features=price_new1[['gvkey','tic','conm','datadate','industry_id','trt1m','adj_ret','adj_close',\n",
    "                     'cshtrm','prccm','prchm','prclm','MA3','MA6','MA12','EMA3','EMA6','EMA12','std12','std6',\n",
    "                     'Size','PriceCap','ROE','ROA','ROA','earnings_q', 'earningsVol','Asset Turnover',\n",
    "                     'PE', 'PB', 'PS', 'dividend_yield','ev_ebitda','NCFP']]\n",
    "sp500_part=pd.read_csv('sp500_cons_part_prc.csv')\n",
    "sp500_part=sp500_part[['gvkey','datadate']].drop_duplicates()\n",
    "features=pd.merge(features,sp500_part)\n",
    "features.to_csv('sp500_features.csv',index=False)"
   ]
  },
  {
   "cell_type": "code",
   "execution_count": 236,
   "metadata": {},
   "outputs": [
    {
     "data": {
      "text/plain": [
       "0        0.005627\n",
       "1        0.008201\n",
       "2        0.009346\n",
       "3        0.009916\n",
       "4        0.007407\n",
       "           ...   \n",
       "59892    0.009869\n",
       "59893    0.009739\n",
       "59894    0.008699\n",
       "59895    0.008410\n",
       "59896    0.008582\n",
       "Name: dividend_yield, Length: 59897, dtype: float64"
      ]
     },
     "execution_count": 236,
     "metadata": {},
     "output_type": "execute_result"
    }
   ],
   "source": [
    "features['dividend_yield']"
   ]
  },
  {
   "cell_type": "code",
   "execution_count": null,
   "metadata": {},
   "outputs": [],
   "source": []
  }
 ],
 "metadata": {
  "kernelspec": {
   "display_name": "Python 3",
   "language": "python",
   "name": "python3"
  },
  "language_info": {
   "codemirror_mode": {
    "name": "ipython",
    "version": 3
   },
   "file_extension": ".py",
   "mimetype": "text/x-python",
   "name": "python",
   "nbconvert_exporter": "python",
   "pygments_lexer": "ipython3",
   "version": "3.7.4"
  }
 },
 "nbformat": 4,
 "nbformat_minor": 2
}
